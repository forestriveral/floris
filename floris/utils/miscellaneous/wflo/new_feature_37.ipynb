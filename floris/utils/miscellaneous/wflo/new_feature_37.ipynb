{
 "metadata": {
  "language_info": {
   "codemirror_mode": {
    "name": "ipython",
    "version": 3
   },
   "file_extension": ".py",
   "mimetype": "text/x-python",
   "name": "python",
   "nbconvert_exporter": "python",
   "pygments_lexer": "ipython3",
   "version": "3.7.7-final"
  },
  "orig_nbformat": 2,
  "kernelspec": {
   "name": "python3",
   "display_name": "Python 3"
  }
 },
 "nbformat": 4,
 "nbformat_minor": 2,
 "cells": [
  {
   "cell_type": "code",
   "execution_count": 96,
   "metadata": {
    "tags": []
   },
   "outputs": [],
   "source": [
    "%reload_ext autoreload\n",
    "%autoreload 2\n",
    "%matplotlib inline\n",
    "# %prun\n",
    "\n",
    "import sys\n",
    "# sys.path\n"
   ]
  },
  {
   "cell_type": "code",
   "execution_count": 97,
   "metadata": {
    "tags": []
   },
   "outputs": [
    {
     "output_type": "stream",
     "name": "stdout",
     "text": "Foo.__init__\n"
    },
    {
     "output_type": "execute_result",
     "data": {
      "text/plain": "' 描述类信息，这是用于看片的神奇 '"
     },
     "metadata": {},
     "execution_count": 97
    }
   ],
   "source": [
    "class Foo:\n",
    "    \"\"\" 描述类信息，这是用于看片的神奇 \"\"\"\n",
    "    def __init__(self, name):\n",
    "        self.name = name\n",
    "        self.age = 18\n",
    "        print(\"Foo.__init__\")\n",
    "\n",
    "    def func(self):\n",
    "        pass\n",
    "\n",
    "obj = Foo(\"Alex\")\n",
    "Foo.__doc__\n"
   ]
  },
  {
   "cell_type": "code",
   "execution_count": 98,
   "metadata": {
    "tags": []
   },
   "outputs": [
    {
     "output_type": "stream",
     "name": "stdout",
     "text": "pandas_practices\n<class 'pandas_practices.Test'>\npandas.core.frame\n<class 'pandas.core.frame.DataFrame'>\n"
    }
   ],
   "source": [
    "from pandas_practices import Test\n",
    "from pandas import DataFrame\n",
    "\n",
    "obj_1 = Test()\n",
    "obj_2 = DataFrame()\n",
    "print(obj_1.__module__)\n",
    "print(obj_1.__class__)\n",
    "\n",
    "print(obj_2.__module__)\n",
    "print(obj_2.__class__)"
   ]
  },
  {
   "cell_type": "code",
   "execution_count": 99,
   "metadata": {
    "tags": []
   },
   "outputs": [
    {
     "output_type": "stream",
     "name": "stdout",
     "text": "__call__\n"
    }
   ],
   "source": [
    "class Foo1:\n",
    "    def __init__(self):\n",
    "        pass\n",
    "    \n",
    "    def __call__(self, *args, **kwargs):\n",
    "        print('__call__')\n",
    " \n",
    " \n",
    "obj = Foo1() # 执行 __init__\n",
    "obj()       # 执行 __call__"
   ]
  },
  {
   "cell_type": "code",
   "execution_count": 100,
   "metadata": {
    "tags": []
   },
   "outputs": [
    {
     "output_type": "stream",
     "name": "stdout",
     "text": "{'__module__': '__main__', 'country': 'China', '__init__': <function Province.__init__ at 0x000001A3FBB74A68>, 'func': <function Province.func at 0x000001A3FBB74AF8>, '__dict__': <attribute '__dict__' of 'Province' objects>, '__weakref__': <attribute '__weakref__' of 'Province' objects>, '__doc__': None}\n{'name': 'HeBei', 'count': 10000}\n{'name': 'HeNan', 'count': 3888}\n"
    }
   ],
   "source": [
    "class Province:\n",
    "    country = 'China'\n",
    "    def __init__(self, name, count):\n",
    "        self.name = name\n",
    "        self.count = count\n",
    " \n",
    "    def func(self, *args, **kwargs):\n",
    "        print('func')\n",
    " \n",
    "# 获取类的成员，即：静态字段、方法、\n",
    "print(Province.__dict__)\n",
    "# 输出：{'country': 'China', '__module__': '__main__', 'func': <function func at 0x10be30f50>, '__init__': <function __init__ at 0x10be30ed8>, '__doc__': None}\n",
    " \n",
    "obj1 = Province('HeBei',10000)\n",
    "print(obj1.__dict__)\n",
    "# 获取 对象obj1 的成员\n",
    "# 输出：{'count': 10000, 'name': 'HeBei'}\n",
    " \n",
    "obj2 = Province('HeNan', 3888)\n",
    "print(obj2.__dict__)\n",
    "# 获取 对象obj1 的成员\n",
    "# 输出：{'count': 3888, 'name': 'HeNan'}"
   ]
  },
  {
   "cell_type": "code",
   "execution_count": 101,
   "metadata": {
    "tags": []
   },
   "outputs": [
    {
     "output_type": "stream",
     "name": "stdout",
     "text": "wupeiqi\n"
    },
    {
     "output_type": "execute_result",
     "data": {
      "text/plain": "(object,)"
     },
     "metadata": {},
     "execution_count": 101
    }
   ],
   "source": [
    "class Foo:\n",
    "    def __str__(self):\n",
    "        return 'wupeiqi'\n",
    " \n",
    "obj = Foo()\n",
    "print(obj)\n",
    "Foo.__bases__\n",
    "# 输出：wupeiqi"
   ]
  },
  {
   "cell_type": "code",
   "execution_count": 102,
   "metadata": {
    "tags": []
   },
   "outputs": [
    {
     "output_type": "stream",
     "name": "stdout",
     "text": "__getitem__ k1\n__setitem__ k2 wupeiqi\n__delitem__ k1\n"
    },
    {
     "output_type": "execute_result",
     "data": {
      "text/plain": "1111"
     },
     "metadata": {},
     "execution_count": 102
    }
   ],
   "source": [
    "class FooParent(object):\n",
    "    a = 1\n",
    "    b = 2\n",
    "\n",
    "class Foo(FooParent):\n",
    "    def __getitem__(self, key):\n",
    "        print('__getitem__', key)\n",
    "\n",
    "    def __setitem__(self, key, value):\n",
    "        print('__setitem__', key, value)\n",
    "\n",
    "    def __delitem__(self, key):\n",
    "        print('__delitem__', key)\n",
    "\n",
    "obj = Foo()\n",
    "result = obj['k1']      # 自动触发执行 __getitem__\n",
    "obj['k2'] = 'wupeiqi'   # 自动触发执行 __setitem__\n",
    "del obj['k1']           # 自动触发执行 __delitem__\n",
    "Foo.a = 1111\n",
    "Foo.a"
   ]
  },
  {
   "cell_type": "code",
   "execution_count": 103,
   "metadata": {},
   "outputs": [
    {
     "output_type": "execute_result",
     "data": {
      "text/plain": "['__class__',\n '__delattr__',\n '__delitem__',\n '__dict__',\n '__dir__',\n '__doc__',\n '__eq__',\n '__format__',\n '__ge__',\n '__getattribute__',\n '__getitem__',\n '__gt__',\n '__hash__',\n '__init__',\n '__init_subclass__',\n '__le__',\n '__lt__',\n '__module__',\n '__ne__',\n '__new__',\n '__reduce__',\n '__reduce_ex__',\n '__repr__',\n '__setattr__',\n '__setitem__',\n '__sizeof__',\n '__str__',\n '__subclasshook__',\n '__weakref__',\n 'a',\n 'b']"
     },
     "metadata": {},
     "execution_count": 103
    }
   ],
   "source": [
    "dir(Foo)"
   ]
  },
  {
   "cell_type": "code",
   "execution_count": 104,
   "metadata": {},
   "outputs": [
    {
     "output_type": "execute_result",
     "data": {
      "text/plain": "__main__.FooParent"
     },
     "metadata": {},
     "execution_count": 104
    }
   ],
   "source": [
    "Foo.__bases__[0]"
   ]
  },
  {
   "cell_type": "code",
   "execution_count": 105,
   "metadata": {
    "tags": []
   },
   "outputs": [
    {
     "output_type": "stream",
     "name": "stdout",
     "text": "11\n22\n33\n44\n"
    }
   ],
   "source": [
    "class Foo(object):\n",
    "    def __init__(self, sq):\n",
    "        self.sq = sq\n",
    " \n",
    "    def __iter__(self):\n",
    "        return iter(self.sq)\n",
    "\n",
    "obj = Foo([11,22,33,44])\n",
    "for i in obj:\n",
    "    print(i)"
   ]
  },
  {
   "cell_type": "code",
   "execution_count": 106,
   "metadata": {},
   "outputs": [
    {
     "output_type": "execute_result",
     "data": {
      "text/plain": "{'__abstractmethods__',\n '__base__',\n '__bases__',\n '__basicsize__',\n '__call__',\n '__dictoffset__',\n '__flags__',\n '__instancecheck__',\n '__itemsize__',\n '__mro__',\n '__name__',\n '__prepare__',\n '__qualname__',\n '__subclasscheck__',\n '__subclasses__',\n '__text_signature__',\n '__weakrefoffset__',\n 'mro'}"
     },
     "metadata": {},
     "execution_count": 106
    }
   ],
   "source": [
    "set(dir(type)) - set(dir(Foo))"
   ]
  },
  {
   "cell_type": "code",
   "execution_count": 107,
   "metadata": {},
   "outputs": [
    {
     "output_type": "execute_result",
     "data": {
      "text/plain": "['__class__',\n '__delattr__',\n '__dict__',\n '__dir__',\n '__doc__',\n '__eq__',\n '__format__',\n '__ge__',\n '__getattribute__',\n '__gt__',\n '__hash__',\n '__init__',\n '__init_subclass__',\n '__iter__',\n '__le__',\n '__lt__',\n '__module__',\n '__ne__',\n '__new__',\n '__reduce__',\n '__reduce_ex__',\n '__repr__',\n '__setattr__',\n '__sizeof__',\n '__str__',\n '__subclasshook__',\n '__weakref__']"
     },
     "metadata": {},
     "execution_count": 107
    }
   ],
   "source": [
    "dir(Foo)"
   ]
  },
  {
   "cell_type": "code",
   "execution_count": 108,
   "metadata": {},
   "outputs": [
    {
     "output_type": "execute_result",
     "data": {
      "text/plain": "mappingproxy({'__module__': '__main__',\n              '__init__': <function __main__.Foo.__init__(self, sq)>,\n              '__iter__': <function __main__.Foo.__iter__(self)>,\n              '__dict__': <attribute '__dict__' of 'Foo' objects>,\n              '__weakref__': <attribute '__weakref__' of 'Foo' objects>,\n              '__doc__': None})"
     },
     "metadata": {},
     "execution_count": 108
    }
   ],
   "source": [
    "Foo.__dict__"
   ]
  },
  {
   "cell_type": "code",
   "execution_count": 109,
   "metadata": {},
   "outputs": [
    {
     "output_type": "execute_result",
     "data": {
      "text/plain": "__main__.Foo"
     },
     "metadata": {},
     "execution_count": 109
    }
   ],
   "source": [
    "Foo"
   ]
  },
  {
   "cell_type": "code",
   "execution_count": 110,
   "metadata": {},
   "outputs": [
    {
     "output_type": "execute_result",
     "data": {
      "text/plain": "['__abstractmethods__',\n '__base__',\n '__bases__',\n '__basicsize__',\n '__call__',\n '__class__',\n '__delattr__',\n '__dict__',\n '__dictoffset__',\n '__dir__',\n '__doc__',\n '__eq__',\n '__flags__',\n '__format__',\n '__ge__',\n '__getattribute__',\n '__gt__',\n '__hash__',\n '__init__',\n '__init_subclass__',\n '__instancecheck__',\n '__itemsize__',\n '__le__',\n '__lt__',\n '__module__',\n '__mro__',\n '__name__',\n '__ne__',\n '__new__',\n '__prepare__',\n '__qualname__',\n '__reduce__',\n '__reduce_ex__',\n '__repr__',\n '__setattr__',\n '__sizeof__',\n '__str__',\n '__subclasscheck__',\n '__subclasses__',\n '__subclasshook__',\n '__text_signature__',\n '__weakrefoffset__',\n 'mro']"
     },
     "metadata": {},
     "execution_count": 110
    }
   ],
   "source": [
    "dir(type)"
   ]
  },
  {
   "cell_type": "code",
   "execution_count": 111,
   "metadata": {
    "tags": []
   },
   "outputs": [
    {
     "output_type": "stream",
     "name": "stdout",
     "text": "Foo.__new__\n"
    },
    {
     "output_type": "error",
     "ename": "TypeError",
     "evalue": "object.__new__() takes exactly one argument (the type to instantiate)",
     "traceback": [
      "\u001b[1;31m---------------------------------------------------------------------------\u001b[0m",
      "\u001b[1;31mTypeError\u001b[0m                                 Traceback (most recent call last)",
      "\u001b[1;32m<ipython-input-111-0fd132c8feea>\u001b[0m in \u001b[0;36m<module>\u001b[1;34m\u001b[0m\n\u001b[0;32m     21\u001b[0m \u001b[1;31m# 第一阶段：解释器从上到下执行代码创建Foo类\u001b[0m\u001b[1;33m\u001b[0m\u001b[1;33m\u001b[0m\u001b[1;33m\u001b[0m\u001b[0m\n\u001b[0;32m     22\u001b[0m \u001b[1;31m# 第二阶段：通过Foo类创建obj对象\u001b[0m\u001b[1;33m\u001b[0m\u001b[1;33m\u001b[0m\u001b[1;33m\u001b[0m\u001b[0m\n\u001b[1;32m---> 23\u001b[1;33m \u001b[0mobj\u001b[0m \u001b[1;33m=\u001b[0m \u001b[0mFoo\u001b[0m\u001b[1;33m(\u001b[0m\u001b[1;34m\"Alex\"\u001b[0m\u001b[1;33m)\u001b[0m\u001b[1;33m\u001b[0m\u001b[1;33m\u001b[0m\u001b[0m\n\u001b[0m\u001b[0;32m     24\u001b[0m \u001b[0mFoo\u001b[0m\u001b[1;33m\u001b[0m\u001b[1;33m\u001b[0m\u001b[0m\n",
      "\u001b[1;32m<ipython-input-111-0fd132c8feea>\u001b[0m in \u001b[0;36m__new__\u001b[1;34m(cls, *args, **kwargs)\u001b[0m\n\u001b[0;32m     17\u001b[0m     \u001b[1;32mdef\u001b[0m \u001b[0m__new__\u001b[0m\u001b[1;33m(\u001b[0m\u001b[0mcls\u001b[0m\u001b[1;33m,\u001b[0m \u001b[1;33m*\u001b[0m\u001b[0margs\u001b[0m\u001b[1;33m,\u001b[0m \u001b[1;33m**\u001b[0m\u001b[0mkwargs\u001b[0m\u001b[1;33m)\u001b[0m\u001b[1;33m:\u001b[0m\u001b[1;33m\u001b[0m\u001b[1;33m\u001b[0m\u001b[0m\n\u001b[0;32m     18\u001b[0m         \u001b[0mprint\u001b[0m\u001b[1;33m(\u001b[0m\u001b[1;34m\"Foo.__new__\"\u001b[0m\u001b[1;33m)\u001b[0m\u001b[1;33m\u001b[0m\u001b[1;33m\u001b[0m\u001b[0m\n\u001b[1;32m---> 19\u001b[1;33m         \u001b[1;32mreturn\u001b[0m \u001b[0mobject\u001b[0m\u001b[1;33m.\u001b[0m\u001b[0m__new__\u001b[0m\u001b[1;33m(\u001b[0m\u001b[0mcls\u001b[0m\u001b[1;33m,\u001b[0m \u001b[1;33m*\u001b[0m\u001b[0margs\u001b[0m\u001b[1;33m,\u001b[0m \u001b[1;33m**\u001b[0m\u001b[0mkwargs\u001b[0m\u001b[1;33m)\u001b[0m\u001b[1;33m\u001b[0m\u001b[1;33m\u001b[0m\u001b[0m\n\u001b[0m\u001b[0;32m     20\u001b[0m \u001b[1;33m\u001b[0m\u001b[0m\n\u001b[0;32m     21\u001b[0m \u001b[1;31m# 第一阶段：解释器从上到下执行代码创建Foo类\u001b[0m\u001b[1;33m\u001b[0m\u001b[1;33m\u001b[0m\u001b[1;33m\u001b[0m\u001b[0m\n",
      "\u001b[1;31mTypeError\u001b[0m: object.__new__() takes exactly one argument (the type to instantiate)"
     ]
    }
   ],
   "source": [
    "class MyType(type):\n",
    "    def __init__(self, what, bases=None, dict=None):\n",
    "        print(\"MyType.__init__\")\n",
    "        super(MyType, self).__init__(what, bases, dict)\n",
    " \n",
    "    def __call__(self, *args, **kwargs):\n",
    "        obj = self.__new__(self, *args, **kwargs)\n",
    "        print(\"MyType.__call__\")\n",
    "        self.__init__(obj)\n",
    " \n",
    "class Foo(object):\n",
    "    __metaclass__ = MyType\n",
    "    def __init__(self, name):\n",
    "        self.name = name\n",
    "        print(\"Foo.__init__\")\n",
    "        \n",
    "    def __new__(cls, *args, **kwargs):\n",
    "        print(\"Foo.__new__\")\n",
    "        return object.__new__(cls, *args, **kwargs)\n",
    " \n",
    "# 第一阶段：解释器从上到下执行代码创建Foo类\n",
    "# 第二阶段：通过Foo类创建obj对象\n",
    "obj = Foo(\"Alex\")\n",
    "Foo"
   ]
  },
  {
   "cell_type": "code",
   "execution_count": 112,
   "metadata": {
    "tags": []
   },
   "outputs": [
    {
     "output_type": "stream",
     "name": "stdout",
     "text": "<__main__.User object at 0x000001A3FBC07D08>\n<class '__main__.User'>\n<__main__.Account object at 0x000001A3FBC072C8> None <class '__main__.User'>\n作为别人小弟（类属性）被访问时，无条件经过我\n"
    }
   ],
   "source": [
    "class Account(object):\n",
    "    def __get__(self, instance, owner):\n",
    "        print(self, instance, owner)\n",
    "        print('作为别人小弟（类属性）被访问时，无条件经过我')\n",
    "        return self\n",
    "\n",
    "    def __getattribute__(self, item):\n",
    "        print('访问属性时，无条件经过我', item)\n",
    "        return object.__getattribute__(self, item)\n",
    "\n",
    "    name = 'xiaomi'\n",
    "\n",
    "    def __getattr__(self, item):\n",
    "        print('我只负责捡漏', item)\n",
    "        if item == 'product':\n",
    "            return 'cellphone'\n",
    "\n",
    "class User:\n",
    "    name = 'Lucy'\n",
    "    account = Account()\n",
    "\n",
    "\n",
    "u = User()\n",
    "print(u)\n",
    "print(u.__class__)\n",
    "p = User.account\n",
    "# print(p)\n",
    "# u.account.name\n",
    "\n",
    "## Output:\n",
    "## 作为别人小弟（类属性）被访问时，无条件经过我（u.account触发）\n",
    "## 访问属性时，无条件经过我（u.account.product触发）\n",
    "## 我只负责捡漏（u.account.product触发）\n",
    "## cellphone\n"
   ]
  },
  {
   "cell_type": "code",
   "execution_count": 117,
   "metadata": {
    "tags": []
   },
   "outputs": [
    {
     "output_type": "stream",
     "name": "stdout",
     "text": "<class '__main__.Student'>\nNone\n<__main__.Student object at 0x000001A3FB54B748>\n<class '__main__.Student'>\n<__main__.Student object at 0x000001A3FB54B748>\n1803807930184 1803807930184\nTrue\n<__main__.Student object at 0x000001A3FB54B748>\n"
    },
    {
     "output_type": "execute_result",
     "data": {
      "text/plain": "<__main__.Student at 0x1a3fb54b748>"
     },
     "metadata": {},
     "execution_count": 117
    }
   ],
   "source": [
    "class Student:\n",
    "    __instance = None\n",
    "\n",
    "    def __new__(cls, *args, **kwargs):\n",
    "        print(cls)\n",
    "        if not cls.__instance:\n",
    "            print(f\"{cls.__instance}\")\n",
    "            cls.__instance = object.__new__(cls)\n",
    "        print(cls.__instance)\n",
    "        return cls.__instance\n",
    "\n",
    "    def sleep(self):\n",
    "        print('sleeping...')\n",
    "\n",
    "stu1 = Student()\n",
    "stu2 = Student()\n",
    "\n",
    "print(id(stu1), id(stu2))  # 两者输出相同\n",
    "print(stu1 is stu2)  # True\n",
    "print(stu1)\n",
    "stu1"
   ]
  },
  {
   "cell_type": "code",
   "execution_count": 121,
   "metadata": {
    "tags": []
   },
   "outputs": [
    {
     "output_type": "stream",
     "name": "stdout",
     "text": "调用对象的del方法，此方法将会回收此对象内存地址\n调用对象的del方法，此方法将会回收此对象内存地址\n"
    }
   ],
   "source": [
    "class Student:\n",
    "\n",
    "    def __del__(self):\n",
    "        print('调用对象的del方法，此方法将会回收此对象内存地址')\n",
    "\n",
    "stu = Student()  # 调用对象的__del__方法回收此对象内存地址\n",
    "\n",
    "del stu\n",
    "\n",
    "# print('下面还有程序其他代码')\n",
    "# class Student:\n",
    "\n",
    "#     def __del__(self):\n",
    "#         print('调用对象的del方法，此方法将会回收此对象内存地址')\n",
    "\n",
    "# stu = Student()  # 程序直接结束，也会调用对象的__del__方法回收地址"
   ]
  },
  {
   "cell_type": "code",
   "execution_count": 124,
   "metadata": {
    "tags": []
   },
   "outputs": [
    {
     "output_type": "stream",
     "name": "stdout",
     "text": "__iter__\n__next__\n1\n__next__\n2\n__next__\n3\n__next__\n4\n__next__\n5\n__next__\n6\n__next__\n7\n__next__\n8\n__next__\n9\n__next__\n10\n__next__\n"
    }
   ],
   "source": [
    "class Num:\n",
    "    def __init__(self, max_num):\n",
    "        self.max_num = max_num\n",
    "        self.count = 0\n",
    "        \n",
    "    def __iter__(self):\n",
    "        print(\"__iter__\")\n",
    "        return self\n",
    "\n",
    "    def __next__(self):\n",
    "        print(\"__next__\")\n",
    "        if self.count < self.max_num:\n",
    "            self.count += 1\n",
    "            return self.count\n",
    "        else:\n",
    "            raise StopIteration('已经到达临界')\n",
    "        \n",
    "num = Num(10)\n",
    "for i in num:\n",
    "    print(i)  # 循环打印1---10"
   ]
  },
  {
   "cell_type": "code",
   "execution_count": 128,
   "metadata": {
    "tags": []
   },
   "outputs": [
    {
     "output_type": "stream",
     "name": "stdout",
     "text": "学生: 小明\n学生: 胖虎\n1\n[学生: 大白, 学生: 小红]\n学生: 胖虎\n"
    },
    {
     "output_type": "execute_result",
     "data": {
      "text/plain": "[学生: 小明, 学生: 大白, 学生: 小红, 学生: 胖虎]"
     },
     "metadata": {},
     "execution_count": 128
    }
   ],
   "source": [
    "class StudentManager:\n",
    "    li = []\n",
    "    dic = {}\n",
    "\n",
    "    def add(self, obj):\n",
    "        self.li.append(obj)\n",
    "        self.dic[obj.name] = obj\n",
    "\n",
    "    def __getitem__(self, item):\n",
    "        if isinstance(item, int):\n",
    "            # 通过下标得到对象\n",
    "            return self.li[item]\n",
    "        elif isinstance(item, slice):\n",
    "            # 通过切片得到一串对象\n",
    "            start = item.start\n",
    "            stop = item.stop\n",
    "            return [student for student in self.li[start:stop]]\n",
    "        elif isinstance(item, str):\n",
    "            # 通过名字得到对象\n",
    "            return self.dic.get(item, None)\n",
    "        else:\n",
    "            # 给定的key类型错误\n",
    "            raise TypeError('你输入的key类型错误!')\n",
    "\n",
    "class Student:\n",
    "    manager = StudentManager()\n",
    "\n",
    "    def __init__(self, name):\n",
    "        self.name = name\n",
    "        self.manager.add(self)\n",
    "\n",
    "    def __str__(self):\n",
    "        return f'学生: {self.name}'\n",
    "\n",
    "    __repr__ = __str__\n",
    "\n",
    "\n",
    "stu1 = Student('小明')\n",
    "stu2 = Student('大白')\n",
    "stu3 = Student('小红')\n",
    "stu4 = Student('胖虎')\n",
    "\n",
    "# 当做列表使用\n",
    "print(Student.manager[0])  # 学生: 小明\n",
    "print(Student.manager[-1])  # 学生: 胖虎\n",
    "print(Student.manager[1:3])  # [学生: 大白, 学生: 小红]\n",
    "\n",
    "# 当做字典使用\n",
    "print(Student.manager['胖虎'])  # 学生: 胖虎\n",
    "StudentManager.li"
   ]
  },
  {
   "cell_type": "code",
   "execution_count": 156,
   "metadata": {
    "tags": []
   },
   "outputs": [
    {
     "output_type": "stream",
     "name": "stdout",
     "text": "设置一个属性值的时候触发\n__dict__\nrun __getattribute__ first\n{}\n设置一个属性值的时候触发\n__dict__\nrun __getattribute__ first\n{'age': 30}\nnoexit\nrun __getattribute__ first\n"
    },
    {
     "output_type": "error",
     "ename": "AttributeError",
     "evalue": "'Student' object has no attribute 'noexit'",
     "traceback": [
      "\u001b[1;31m---------------------------------------------------------------------------\u001b[0m",
      "\u001b[1;31mAttributeError\u001b[0m                            Traceback (most recent call last)",
      "\u001b[1;32m<ipython-input-156-d64808fc426e>\u001b[0m in \u001b[0;36m<module>\u001b[1;34m\u001b[0m\n\u001b[0;32m     25\u001b[0m \u001b[0mstu\u001b[0m \u001b[1;33m=\u001b[0m \u001b[0mStudent\u001b[0m\u001b[1;33m(\u001b[0m\u001b[1;36m30\u001b[0m\u001b[1;33m)\u001b[0m\u001b[1;33m\u001b[0m\u001b[1;33m\u001b[0m\u001b[0m\n\u001b[0;32m     26\u001b[0m \u001b[0mstu\u001b[0m\u001b[1;33m.\u001b[0m\u001b[0mname\u001b[0m \u001b[1;33m=\u001b[0m \u001b[1;34m'zlw'\u001b[0m  \u001b[1;31m# 设置一个属性值的时候触发\u001b[0m\u001b[1;33m\u001b[0m\u001b[1;33m\u001b[0m\u001b[0m\n\u001b[1;32m---> 27\u001b[1;33m \u001b[0mprint\u001b[0m\u001b[1;33m(\u001b[0m\u001b[0mstu\u001b[0m\u001b[1;33m.\u001b[0m\u001b[0mnoexit\u001b[0m\u001b[1;33m)\u001b[0m  \u001b[1;31m# 访问一个不存在的属性时候触发 , 返回'不存在'\u001b[0m\u001b[1;33m\u001b[0m\u001b[1;33m\u001b[0m\u001b[0m\n\u001b[0m\u001b[0;32m     28\u001b[0m \u001b[0mprint\u001b[0m\u001b[1;33m(\u001b[0m\u001b[0mstu\u001b[0m\u001b[1;33m.\u001b[0m\u001b[0mname\u001b[0m\u001b[1;33m)\u001b[0m\u001b[1;33m\u001b[0m\u001b[1;33m\u001b[0m\u001b[0m\n\u001b[0;32m     29\u001b[0m \u001b[1;31m# del stu.name  # 删除一个属性的时候触发\u001b[0m\u001b[1;33m\u001b[0m\u001b[1;33m\u001b[0m\u001b[1;33m\u001b[0m\u001b[0m\n",
      "\u001b[1;32m<ipython-input-156-d64808fc426e>\u001b[0m in \u001b[0;36m__getattribute__\u001b[1;34m(self, item)\u001b[0m\n\u001b[0;32m      6\u001b[0m         \u001b[0mprint\u001b[0m\u001b[1;33m(\u001b[0m\u001b[0mitem\u001b[0m\u001b[1;33m)\u001b[0m\u001b[1;33m\u001b[0m\u001b[1;33m\u001b[0m\u001b[0m\n\u001b[0;32m      7\u001b[0m         \u001b[0mprint\u001b[0m\u001b[1;33m(\u001b[0m\u001b[1;34m\"run __getattribute__ first\"\u001b[0m\u001b[1;33m)\u001b[0m\u001b[1;33m\u001b[0m\u001b[1;33m\u001b[0m\u001b[0m\n\u001b[1;32m----> 8\u001b[1;33m         \u001b[0mprint\u001b[0m\u001b[1;33m(\u001b[0m\u001b[0mobject\u001b[0m\u001b[1;33m.\u001b[0m\u001b[0m__getattribute__\u001b[0m\u001b[1;33m(\u001b[0m\u001b[0mself\u001b[0m\u001b[1;33m,\u001b[0m \u001b[0mitem\u001b[0m\u001b[1;33m)\u001b[0m\u001b[1;33m)\u001b[0m\u001b[1;33m\u001b[0m\u001b[1;33m\u001b[0m\u001b[0m\n\u001b[0m\u001b[0;32m      9\u001b[0m         \u001b[1;32mreturn\u001b[0m \u001b[0mobject\u001b[0m\u001b[1;33m.\u001b[0m\u001b[0m__getattribute__\u001b[0m\u001b[1;33m(\u001b[0m\u001b[0mself\u001b[0m\u001b[1;33m,\u001b[0m \u001b[0mitem\u001b[0m\u001b[1;33m)\u001b[0m\u001b[1;33m\u001b[0m\u001b[1;33m\u001b[0m\u001b[0m\n\u001b[0;32m     10\u001b[0m \u001b[1;33m\u001b[0m\u001b[0m\n",
      "\u001b[1;31mAttributeError\u001b[0m: 'Student' object has no attribute 'noexit'"
     ]
    }
   ],
   "source": [
    "class Student:\n",
    "    def __init__(self, age):\n",
    "        self.age = age\n",
    "\n",
    "    def __getattribute__(self, item):\n",
    "        print(item)\n",
    "        print(\"run __getattribute__ first\")\n",
    "        print(object.__getattribute__(self, item))\n",
    "        return object.__getattribute__(self, item)\n",
    "\n",
    "    def __getattr__(self, item):\n",
    "        print('访问一个不存在的属性时候触发')\n",
    "        return '不存在'\n",
    "\n",
    "    def __setattr__(self, key, value):\n",
    "        print('设置一个属性值的时候触发')\n",
    "        # self.key = value  # 这样会无限循环\n",
    "        self.__dict__[key] = value\n",
    "\n",
    "    def __delattr__(self, item):\n",
    "        print('删除一个属性的时候触发')\n",
    "        if self.__dict__.get(item, None):\n",
    "            del self.__dict__[item]\n",
    "\n",
    "stu = Student(30)\n",
    "stu.name = 'zlw'  # 设置一个属性值的时候触发\n",
    "print(stu.noexit)  # 访问一个不存在的属性时候触发 , 返回'不存在'\n",
    "print(stu.name)\n",
    "# del stu.name  # 删除一个属性的时候触发"
   ]
  },
  {
   "cell_type": "code",
   "execution_count": 166,
   "metadata": {
    "tags": []
   },
   "outputs": [
    {
     "output_type": "stream",
     "name": "stdout",
     "text": "属性访问截断器\n400\n属性访问截断器\n没有找到: c\n===========\n"
    }
   ],
   "source": [
    "class People:\n",
    "    a = 100\n",
    "    b = 200\n",
    "\n",
    "class Student(People):\n",
    "    a = 300\n",
    "    b = 400\n",
    "\n",
    "    def __init__(self, a):\n",
    "        self.a = a\n",
    "\n",
    "    def __getattr__(self, item):\n",
    "        print('没有找到:', item)\n",
    "        return \"===========\"\n",
    "\n",
    "    def __getattribute__(self, item):\n",
    "        print('属性访问截断器')\n",
    "        if item == 'a':\n",
    "            return 1\n",
    "        return super().__getattribute__(item)\n",
    "\n",
    "stu = Student(1)\n",
    "print(stu.b)  # 1\n",
    "print(stu.c)  # 1"
   ]
  },
  {
   "cell_type": "code",
   "execution_count": 20,
   "metadata": {
    "tags": []
   },
   "outputs": [
    {
     "output_type": "error",
     "ename": "TypeError",
     "evalue": "__init__() should return None, not 'int'",
     "traceback": [
      "\u001b[1;31m---------------------------------------------------------------------------\u001b[0m",
      "\u001b[1;31mTypeError\u001b[0m                                 Traceback (most recent call last)",
      "\u001b[1;32m<ipython-input-20-404b6041e078>\u001b[0m in \u001b[0;36m<module>\u001b[1;34m\u001b[0m\n\u001b[0;32m     10\u001b[0m         \u001b[1;32mreturn\u001b[0m \u001b[0mself\u001b[0m\u001b[1;33m.\u001b[0m\u001b[0ma\u001b[0m\u001b[1;33m\u001b[0m\u001b[1;33m\u001b[0m\u001b[0m\n\u001b[0;32m     11\u001b[0m \u001b[1;33m\u001b[0m\u001b[0m\n\u001b[1;32m---> 12\u001b[1;33m \u001b[0ms\u001b[0m \u001b[1;33m=\u001b[0m \u001b[0mStudent\u001b[0m\u001b[1;33m(\u001b[0m\u001b[1;33m)\u001b[0m\u001b[1;33m\u001b[0m\u001b[1;33m\u001b[0m\u001b[0m\n\u001b[0m\u001b[0;32m     13\u001b[0m \u001b[0mprint\u001b[0m\u001b[1;33m(\u001b[0m\u001b[0mStudent\u001b[0m\u001b[1;33m.\u001b[0m\u001b[0ma\u001b[0m\u001b[1;33m)\u001b[0m\u001b[1;33m\u001b[0m\u001b[1;33m\u001b[0m\u001b[0m\n\u001b[0;32m     14\u001b[0m \u001b[0mprint\u001b[0m\u001b[1;33m(\u001b[0m\u001b[0ms\u001b[0m\u001b[1;33m.\u001b[0m\u001b[0ma\u001b[0m\u001b[1;33m)\u001b[0m\u001b[1;33m\u001b[0m\u001b[1;33m\u001b[0m\u001b[0m\n",
      "\u001b[1;31mTypeError\u001b[0m: __init__() should return None, not 'int'"
     ]
    }
   ],
   "source": [
    "class People:\n",
    "    a = 100\n",
    "    b = 200\n",
    "\n",
    "class Student(People):\n",
    "    a = 300\n",
    "    b = 400\n",
    "\n",
    "    def __init__(self):\n",
    "        print(self.a)\n",
    "\n",
    "s = Student()\n",
    "print(Student.a)\n",
    "print(s.a)\n",
    "s.a = 333\n",
    "Student.a = 444\n",
    "print(s.a)\n",
    "print(Student.a)\n"
   ]
  },
  {
   "cell_type": "code",
   "execution_count": null,
   "metadata": {},
   "outputs": [],
   "source": []
  }
 ]
}