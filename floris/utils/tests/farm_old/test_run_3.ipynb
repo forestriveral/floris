{
 "cells": [
  {
   "cell_type": "code",
   "execution_count": null,
   "metadata": {},
   "outputs": [],
   "source": [
    "%reload_ext autoreload\n",
    "%autoreload 2\n",
    "\n",
    "import sys\n",
    "root = \"C:\\\\Users\\\\Li Hang\\\\Documents\\\\Projects\\\\WF\"\n",
    "sys.path.append(root)\n",
    "import numpy as np\n",
    "from farms.Horns import HornsRev1\n",
    "import utils.ops as ops"
   ]
  },
  {
   "cell_type": "code",
   "execution_count": null,
   "metadata": {},
   "outputs": [],
   "source": [
    "config = {\n",
    "        \"inflow\": 8.,\n",
    "        \"theta_w\": 270,\n",
    "        \"sector\": [1,],\n",
    "        \"wm\": [\"Jensen\", \"Bastankhah\", \"Frandsen\", \"Frandsen\"],\n",
    "        \"wsm\": [\"SS\",],\n",
    "        \"tim\": [\"Crespo\", \"Frandsen\", \"Crespo\", \"Frandsen\"],\n",
    "        \"tsm\": None,\n",
    "        \"ignore\": [\"inflow\", \"wsm\"],\n",
    "    }\n",
    "\n",
    "theta = [270, 222, 312]\n",
    "sector = [[1], [5], [10], [15]]\n",
    "\n",
    "Horns = HornsRev1()\n",
    "for j in theta:\n",
    "    for k in sector:\n",
    "        config[\"theta_w\"], config[\"sector\"] = j, k\n",
    "        c = ops.CaseConfig(ops.CaseConfig(config).configs.iloc[:, [0, 5, 10, 15]])\n",
    "        Horns.WP2015_Fig_6_comparsion(c, config[\"theta_w\"], sectors=config[\"sector\"],\n",
    "                    psave=f\"20_9_30/{j}_{k[0]}\", dsave=None, show=False)"
   ]
  },
  {
   "cell_type": "code",
   "execution_count": null,
   "metadata": {},
   "outputs": [],
   "source": []
  }
 ],
 "metadata": {
  "kernelspec": {
   "display_name": "ml",
   "language": "python",
   "name": "ml"
  },
  "language_info": {
   "codemirror_mode": {
    "name": "ipython",
    "version": 3
   },
   "file_extension": ".py",
   "mimetype": "text/x-python",
   "name": "python",
   "nbconvert_exporter": "python",
   "pygments_lexer": "ipython3",
   "version": "3.6.10"
  }
 },
 "nbformat": 4,
 "nbformat_minor": 2
}
