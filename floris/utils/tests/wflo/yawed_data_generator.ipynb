{
 "cells": [
  {
   "cell_type": "code",
   "execution_count": 2,
   "metadata": {},
   "outputs": [
    {
     "name": "stdout",
     "output_type": "stream",
     "text": [
      "/Users/forestriveral/Documents/Projects/WFLO/debug\n",
      "|   iter    |  target   |    x1     |    x10    |    x2     |    x3     |    x4     |    x5     |    x6     |    x7     |    x8     |    x9     |\n",
      "-------------------------------------------------------------------------------------------------------------------------------------------------\n",
      "| \u001b[0m 1       \u001b[0m | \u001b[0m 6.563   \u001b[0m | \u001b[0m-19.37   \u001b[0m | \u001b[0m 0.08968 \u001b[0m | \u001b[0m 0.1142  \u001b[0m | \u001b[0m-5.525   \u001b[0m | \u001b[0m 0.111   \u001b[0m | \u001b[0m 25.41   \u001b[0m | \u001b[0m 0.1842  \u001b[0m | \u001b[0m 5.046   \u001b[0m | \u001b[0m 0.1781  \u001b[0m | \u001b[0m 19.11   \u001b[0m |\n",
      "| \u001b[95m 2       \u001b[0m | \u001b[95m 6.889   \u001b[0m | \u001b[95m-6.688   \u001b[0m | \u001b[95m 0.2558  \u001b[0m | \u001b[95m 0.05742 \u001b[0m | \u001b[95m 25.23   \u001b[0m | \u001b[95m 0.199   \u001b[0m | \u001b[95m-23.58   \u001b[0m | \u001b[95m 0.115   \u001b[0m | \u001b[95m-26.95   \u001b[0m | \u001b[95m 0.1534  \u001b[0m | \u001b[95m 1.439   \u001b[0m |\n",
      "| \u001b[0m 3       \u001b[0m | \u001b[0m 6.351   \u001b[0m | \u001b[0m 3.715   \u001b[0m | \u001b[0m 0.1934  \u001b[0m | \u001b[0m 0.1835  \u001b[0m | \u001b[0m 25.42   \u001b[0m | \u001b[0m 0.2457  \u001b[0m | \u001b[0m-22.98   \u001b[0m | \u001b[0m 0.2629  \u001b[0m | \u001b[0m-2.92    \u001b[0m | \u001b[0m 0.2603  \u001b[0m | \u001b[0m 9.457   \u001b[0m |\n",
      "| \u001b[0m 4       \u001b[0m | \u001b[0m 6.511   \u001b[0m | \u001b[0m-7.973   \u001b[0m | \u001b[0m 0.07861 \u001b[0m | \u001b[0m 0.1207  \u001b[0m | \u001b[0m-4.253   \u001b[0m | \u001b[0m 0.119   \u001b[0m | \u001b[0m-15.41   \u001b[0m | \u001b[0m 0.1786  \u001b[0m | \u001b[0m 10.15   \u001b[0m | \u001b[0m 0.09838 \u001b[0m | \u001b[0m-7.832   \u001b[0m |\n",
      "| \u001b[0m 5       \u001b[0m | \u001b[0m 6.335   \u001b[0m | \u001b[0m-13.54   \u001b[0m | \u001b[0m 0.07726 \u001b[0m | \u001b[0m 0.201   \u001b[0m | \u001b[0m-7.335   \u001b[0m | \u001b[0m 0.2131  \u001b[0m | \u001b[0m 21.05   \u001b[0m | \u001b[0m 0.1046  \u001b[0m | \u001b[0m-18.62   \u001b[0m | \u001b[0m 0.1586  \u001b[0m | \u001b[0m-15.56   \u001b[0m |\n",
      "| \u001b[95m 6       \u001b[0m | \u001b[95m 7.082   \u001b[0m | \u001b[95m-30.0    \u001b[0m | \u001b[95m 0.276   \u001b[0m | \u001b[95m 0.031   \u001b[0m | \u001b[95m-30.0    \u001b[0m | \u001b[95m 0.031   \u001b[0m | \u001b[95m-30.0    \u001b[0m | \u001b[95m 0.031   \u001b[0m | \u001b[95m-30.0    \u001b[0m | \u001b[95m 0.031   \u001b[0m | \u001b[95m 30.0    \u001b[0m |\n",
      "| \u001b[0m 7       \u001b[0m | \u001b[0m 7.082   \u001b[0m | \u001b[0m 30.0    \u001b[0m | \u001b[0m 0.276   \u001b[0m | \u001b[0m 0.031   \u001b[0m | \u001b[0m-30.0    \u001b[0m | \u001b[0m 0.031   \u001b[0m | \u001b[0m-30.0    \u001b[0m | \u001b[0m 0.031   \u001b[0m | \u001b[0m-30.0    \u001b[0m | \u001b[0m 0.031   \u001b[0m | \u001b[0m-30.0    \u001b[0m |\n",
      "| \u001b[0m 8       \u001b[0m | \u001b[0m 6.955   \u001b[0m | \u001b[0m-10.76   \u001b[0m | \u001b[0m 0.2114  \u001b[0m | \u001b[0m 0.04425 \u001b[0m | \u001b[0m 29.04   \u001b[0m | \u001b[0m 0.03333 \u001b[0m | \u001b[0m-27.52   \u001b[0m | \u001b[0m 0.1273  \u001b[0m | \u001b[0m-22.77   \u001b[0m | \u001b[0m 0.05734 \u001b[0m | \u001b[0m 1.811   \u001b[0m |\n",
      "| \u001b[0m 9       \u001b[0m | \u001b[0m 6.514   \u001b[0m | \u001b[0m-3.724   \u001b[0m | \u001b[0m 0.1357  \u001b[0m | \u001b[0m 0.2044  \u001b[0m | \u001b[0m 25.63   \u001b[0m | \u001b[0m 0.1997  \u001b[0m | \u001b[0m-25.11   \u001b[0m | \u001b[0m 0.07575 \u001b[0m | \u001b[0m-24.7    \u001b[0m | \u001b[0m 0.08707 \u001b[0m | \u001b[0m 4.489   \u001b[0m |\n",
      "| \u001b[0m 10      \u001b[0m | \u001b[0m 6.768   \u001b[0m | \u001b[0m 20.63   \u001b[0m | \u001b[0m 0.1423  \u001b[0m | \u001b[0m 0.2727  \u001b[0m | \u001b[0m-21.43   \u001b[0m | \u001b[0m 0.1725  \u001b[0m | \u001b[0m 13.58   \u001b[0m | \u001b[0m 0.1873  \u001b[0m | \u001b[0m 29.53   \u001b[0m | \u001b[0m 0.1019  \u001b[0m | \u001b[0m-17.89   \u001b[0m |\n",
      "| \u001b[0m 11      \u001b[0m | \u001b[0m 6.143   \u001b[0m | \u001b[0m 2.344   \u001b[0m | \u001b[0m 0.218   \u001b[0m | \u001b[0m 0.2495  \u001b[0m | \u001b[0m 2.693   \u001b[0m | \u001b[0m 0.08147 \u001b[0m | \u001b[0m-22.47   \u001b[0m | \u001b[0m 0.1156  \u001b[0m | \u001b[0m-6.324   \u001b[0m | \u001b[0m 0.2063  \u001b[0m | \u001b[0m-8.199   \u001b[0m |\n",
      "| \u001b[0m 12      \u001b[0m | \u001b[0m 6.134   \u001b[0m | \u001b[0m-1.332   \u001b[0m | \u001b[0m 0.2651  \u001b[0m | \u001b[0m 0.1531  \u001b[0m | \u001b[0m 1.272   \u001b[0m | \u001b[0m 0.1233  \u001b[0m | \u001b[0m 2.429   \u001b[0m | \u001b[0m 0.2047  \u001b[0m | \u001b[0m 3.393   \u001b[0m | \u001b[0m 0.198   \u001b[0m | \u001b[0m-4.07    \u001b[0m |\n",
      "| \u001b[95m 13      \u001b[0m | \u001b[95m 7.152   \u001b[0m | \u001b[95m-30.0    \u001b[0m | \u001b[95m 0.276   \u001b[0m | \u001b[95m 0.031   \u001b[0m | \u001b[95m 30.0    \u001b[0m | \u001b[95m 0.276   \u001b[0m | \u001b[95m-20.7    \u001b[0m | \u001b[95m 0.276   \u001b[0m | \u001b[95m-30.0    \u001b[0m | \u001b[95m 0.276   \u001b[0m | \u001b[95m-30.0    \u001b[0m |\n",
      "| \u001b[0m 14      \u001b[0m | \u001b[0m 6.676   \u001b[0m | \u001b[0m-18.47   \u001b[0m | \u001b[0m 0.03553 \u001b[0m | \u001b[0m 0.1633  \u001b[0m | \u001b[0m 11.41   \u001b[0m | \u001b[0m 0.09462 \u001b[0m | \u001b[0m 29.63   \u001b[0m | \u001b[0m 0.1408  \u001b[0m | \u001b[0m 2.509   \u001b[0m | \u001b[0m 0.1096  \u001b[0m | \u001b[0m 22.99   \u001b[0m |\n",
      "| \u001b[0m 15      \u001b[0m | \u001b[0m 6.625   \u001b[0m | \u001b[0m-1.622   \u001b[0m | \u001b[0m 0.1166  \u001b[0m | \u001b[0m 0.08804 \u001b[0m | \u001b[0m-29.73   \u001b[0m | \u001b[0m 0.2075  \u001b[0m | \u001b[0m-20.3    \u001b[0m | \u001b[0m 0.2583  \u001b[0m | \u001b[0m-2.402   \u001b[0m | \u001b[0m 0.2393  \u001b[0m | \u001b[0m-11.74   \u001b[0m |\n",
      "| \u001b[0m 16      \u001b[0m | \u001b[0m 6.963   \u001b[0m | \u001b[0m 22.14   \u001b[0m | \u001b[0m 0.1869  \u001b[0m | \u001b[0m 0.07362 \u001b[0m | \u001b[0m-21.42   \u001b[0m | \u001b[0m 0.2217  \u001b[0m | \u001b[0m 25.63   \u001b[0m | \u001b[0m 0.2733  \u001b[0m | \u001b[0m-27.47   \u001b[0m | \u001b[0m 0.05116 \u001b[0m | \u001b[0m 12.6    \u001b[0m |\n",
      "| \u001b[0m 17      \u001b[0m | \u001b[0m 6.511   \u001b[0m | \u001b[0m-27.31   \u001b[0m | \u001b[0m 0.09978 \u001b[0m | \u001b[0m 0.221   \u001b[0m | \u001b[0m-14.27   \u001b[0m | \u001b[0m 0.09629 \u001b[0m | \u001b[0m 9.908   \u001b[0m | \u001b[0m 0.2473  \u001b[0m | \u001b[0m 10.01   \u001b[0m | \u001b[0m 0.2109  \u001b[0m | \u001b[0m-27.32   \u001b[0m |\n",
      "| \u001b[0m 18      \u001b[0m | \u001b[0m 6.699   \u001b[0m | \u001b[0m 21.83   \u001b[0m | \u001b[0m 0.1471  \u001b[0m | \u001b[0m 0.1866  \u001b[0m | \u001b[0m-13.24   \u001b[0m | \u001b[0m 0.1886  \u001b[0m | \u001b[0m 23.28   \u001b[0m | \u001b[0m 0.1462  \u001b[0m | \u001b[0m 13.79   \u001b[0m | \u001b[0m 0.04345 \u001b[0m | \u001b[0m 7.323   \u001b[0m |\n",
      "| \u001b[0m 19      \u001b[0m | \u001b[0m 6.713   \u001b[0m | \u001b[0m 8.549   \u001b[0m | \u001b[0m 0.2071  \u001b[0m | \u001b[0m 0.1731  \u001b[0m | \u001b[0m-21.31   \u001b[0m | \u001b[0m 0.03478 \u001b[0m | \u001b[0m-22.04   \u001b[0m | \u001b[0m 0.2527  \u001b[0m | \u001b[0m-23.33   \u001b[0m | \u001b[0m 0.252   \u001b[0m | \u001b[0m 8.888   \u001b[0m |\n",
      "| \u001b[0m 20      \u001b[0m | \u001b[0m 6.535   \u001b[0m | \u001b[0m-30.0    \u001b[0m | \u001b[0m 0.276   \u001b[0m | \u001b[0m 0.031   \u001b[0m | \u001b[0m 30.0    \u001b[0m | \u001b[0m 0.031   \u001b[0m | \u001b[0m 0.07983 \u001b[0m | \u001b[0m 0.276   \u001b[0m | \u001b[0m-30.0    \u001b[0m | \u001b[0m 0.276   \u001b[0m | \u001b[0m 12.19   \u001b[0m |\n",
      "| \u001b[0m 21      \u001b[0m | \u001b[0m 6.894   \u001b[0m | \u001b[0m 26.83   \u001b[0m | \u001b[0m 0.248   \u001b[0m | \u001b[0m 0.07739 \u001b[0m | \u001b[0m-28.66   \u001b[0m | \u001b[0m 0.2128  \u001b[0m | \u001b[0m-29.36   \u001b[0m | \u001b[0m 0.1107  \u001b[0m | \u001b[0m 28.77   \u001b[0m | \u001b[0m 0.08908 \u001b[0m | \u001b[0m 28.17   \u001b[0m |\n",
      "| \u001b[0m 22      \u001b[0m | \u001b[0m 6.6     \u001b[0m | \u001b[0m-0.9052  \u001b[0m | \u001b[0m 0.208   \u001b[0m | \u001b[0m 0.1609  \u001b[0m | \u001b[0m-18.91   \u001b[0m | \u001b[0m 0.1481  \u001b[0m | \u001b[0m-22.43   \u001b[0m | \u001b[0m 0.1797  \u001b[0m | \u001b[0m 12.15   \u001b[0m | \u001b[0m 0.0365  \u001b[0m | \u001b[0m-29.41   \u001b[0m |\n",
      "| \u001b[0m 23      \u001b[0m | \u001b[0m 6.643   \u001b[0m | \u001b[0m-12.78   \u001b[0m | \u001b[0m 0.2166  \u001b[0m | \u001b[0m 0.1994  \u001b[0m | \u001b[0m 22.86   \u001b[0m | \u001b[0m 0.1151  \u001b[0m | \u001b[0m-8.508   \u001b[0m | \u001b[0m 0.05527 \u001b[0m | \u001b[0m 23.34   \u001b[0m | \u001b[0m 0.0662  \u001b[0m | \u001b[0m-28.69   \u001b[0m |\n",
      "| \u001b[95m 24      \u001b[0m | \u001b[95m 7.19    \u001b[0m | \u001b[95m-30.0    \u001b[0m | \u001b[95m 0.276   \u001b[0m | \u001b[95m 0.031   \u001b[0m | \u001b[95m 30.0    \u001b[0m | \u001b[95m 0.276   \u001b[0m | \u001b[95m-30.0    \u001b[0m | \u001b[95m 0.276   \u001b[0m | \u001b[95m 30.0    \u001b[0m | \u001b[95m 0.276   \u001b[0m | \u001b[95m 30.0    \u001b[0m |\n",
      "| \u001b[0m 25      \u001b[0m | \u001b[0m 7.19    \u001b[0m | \u001b[0m 30.0    \u001b[0m | \u001b[0m 0.276   \u001b[0m | \u001b[0m 0.031   \u001b[0m | \u001b[0m 30.0    \u001b[0m | \u001b[0m 0.276   \u001b[0m | \u001b[0m 30.0    \u001b[0m | \u001b[0m 0.276   \u001b[0m | \u001b[0m 30.0    \u001b[0m | \u001b[0m 0.276   \u001b[0m | \u001b[0m 30.0    \u001b[0m |\n",
      "| \u001b[0m 26      \u001b[0m | \u001b[0m 6.846   \u001b[0m | \u001b[0m-15.2    \u001b[0m | \u001b[0m 0.2502  \u001b[0m | \u001b[0m 0.2519  \u001b[0m | \u001b[0m-29.58   \u001b[0m | \u001b[0m 0.1913  \u001b[0m | \u001b[0m-12.67   \u001b[0m | \u001b[0m 0.05066 \u001b[0m | \u001b[0m-27.76   \u001b[0m | \u001b[0m 0.1735  \u001b[0m | \u001b[0m-10.46   \u001b[0m |\n",
      "| \u001b[0m 27      \u001b[0m | \u001b[0m 7.19    \u001b[0m | \u001b[0m-30.0    \u001b[0m | \u001b[0m 0.276   \u001b[0m | \u001b[0m 0.031   \u001b[0m | \u001b[0m-30.0    \u001b[0m | \u001b[0m 0.276   \u001b[0m | \u001b[0m-30.0    \u001b[0m | \u001b[0m 0.276   \u001b[0m | \u001b[0m 30.0    \u001b[0m | \u001b[0m 0.276   \u001b[0m | \u001b[0m 30.0    \u001b[0m |\n",
      "| \u001b[0m 28      \u001b[0m | \u001b[0m 6.31    \u001b[0m | \u001b[0m-2.878   \u001b[0m | \u001b[0m 0.2079  \u001b[0m | \u001b[0m 0.2686  \u001b[0m | \u001b[0m-22.67   \u001b[0m | \u001b[0m 0.1395  \u001b[0m | \u001b[0m-21.38   \u001b[0m | \u001b[0m 0.2509  \u001b[0m | \u001b[0m 25.26   \u001b[0m | \u001b[0m 0.1275  \u001b[0m | \u001b[0m 28.86   \u001b[0m |\n",
      "| \u001b[0m 29      \u001b[0m | \u001b[0m 7.19    \u001b[0m | \u001b[0m 30.0    \u001b[0m | \u001b[0m 0.276   \u001b[0m | \u001b[0m 0.031   \u001b[0m | \u001b[0m 30.0    \u001b[0m | \u001b[0m 0.276   \u001b[0m | \u001b[0m 30.0    \u001b[0m | \u001b[0m 0.276   \u001b[0m | \u001b[0m-30.0    \u001b[0m | \u001b[0m 0.276   \u001b[0m | \u001b[0m-30.0    \u001b[0m |\n",
      "| \u001b[0m 30      \u001b[0m | \u001b[0m 7.19    \u001b[0m | \u001b[0m 30.0    \u001b[0m | \u001b[0m 0.276   \u001b[0m | \u001b[0m 0.031   \u001b[0m | \u001b[0m-30.0    \u001b[0m | \u001b[0m 0.276   \u001b[0m | \u001b[0m 30.0    \u001b[0m | \u001b[0m 0.276   \u001b[0m | \u001b[0m-30.0    \u001b[0m | \u001b[0m 0.276   \u001b[0m | \u001b[0m-30.0    \u001b[0m |\n",
      "=================================================================================================================================================\n",
      "第24次迭代得到最优结果：\n",
      "{'target': 7.1900330340325995, 'params': {'x1': -30.0, 'x10': 0.276, 'x2': 0.031, 'x3': 30.0, 'x4': 0.276, 'x5': -30.0, 'x6': 0.276, 'x7': 30.0, 'x8': 0.276, 'x9': 30.0}}\n"
     ]
    }
   ],
   "source": [
    "%reload_ext autoreload\n",
    "%autoreload 2\n",
    "\n",
    "import os\n",
    "import sys\n",
    "sys.path.append('/Users/forestriveral/Documents/Projects/WFLO')\n",
    "print(os.getcwd())\n",
    "import numpy as np\n",
    "\n",
    "import utils.optimizer as uopt\n",
    "import miscellaneous.BOA_fuqing as boa\n"
   ]
  },
  {
   "cell_type": "code",
   "execution_count": 2,
   "metadata": {},
   "outputs": [],
   "source": [
    "config = {\n",
    "        \"num\": 5,\n",
    "        \"param\": \"horns\",\n",
    "        \"inflow\": 8.0,\n",
    "        \"theta\": 10.,\n",
    "        \"sector\": 3,\n",
    "        \"Iam\": 0.077,\n",
    "        \"winds\": \"horns\",\n",
    "        \"wm\": \"Jensen\",\n",
    "        \"wsm\": \"SS\",\n",
    "        \"tim\": None,\n",
    "        \"tsm\": None,}"
   ]
  },
  {
   "cell_type": "code",
   "execution_count": 3,
   "metadata": {},
   "outputs": [],
   "source": [
    "layouts = np.array([[800, 3040],\n",
    "                   [800, 2480],\n",
    "                   [800, 1920],\n",
    "                   [800, 1360],\n",
    "                   [800, 800]])\n",
    "\n",
    "inputs = np.array([[-10, 0.276],\n",
    "                   [10, 0.276],\n",
    "                   [10, 0.152],\n",
    "                   [10, 0.276],\n",
    "                   [10, 0.114]])"
   ]
  },
  {
   "cell_type": "code",
   "execution_count": 4,
   "metadata": {
    "collapsed": true
   },
   "outputs": [
    {
     "name": "stdout",
     "output_type": "stream",
     "text": [
      "\n",
      "ytheta: -10.0\n",
      "wake_offset -45.84610262780443\n",
      "d_spanwise:  51.39687686567659\n",
      "r_wake:  62.059693667473454\n",
      "intersect_ratio: 0.5963491703604674\n",
      "\n",
      "ytheta: -10.0\n",
      "wake_offset -66.29317491986632\n",
      "d_spanwise:  128.19278406709572\n",
      "r_wake:  84.11938733494691\n",
      "intersect_ratio: 0.0\n",
      "\n",
      "ytheta: -10.0\n",
      "wake_offset -77.87192110937987\n",
      "d_spanwise:  213.8570173710632\n",
      "r_wake:  106.17908100242038\n",
      "intersect_ratio: 0.0\n",
      "\n",
      "ytheta: -10.0\n",
      "wake_offset -85.32391489454648\n",
      "d_spanwise:  303.6480030793775\n",
      "r_wake:  128.23877466989381\n",
      "intersect_ratio: 0.0\n",
      "\n",
      "ytheta: 10.0\n",
      "wake_offset 45.84610262780443\n",
      "d_spanwise:  51.39687686567659\n",
      "r_wake:  62.059693667473454\n",
      "intersect_ratio: 0.5963491703604674\n",
      "\n",
      "ytheta: 10.0\n",
      "wake_offset 66.29317491986632\n",
      "d_spanwise:  128.19278406709572\n",
      "r_wake:  84.11938733494692\n",
      "intersect_ratio: 0.0\n",
      "\n",
      "ytheta: 10.0\n",
      "wake_offset 77.87192110937985\n",
      "d_spanwise:  213.85701737106308\n",
      "r_wake:  106.17908100242038\n",
      "intersect_ratio: 0.0\n",
      "\n",
      "ytheta: 10.0\n",
      "wake_offset 29.560508790656385\n",
      "d_spanwise:  67.68247070282463\n",
      "r_wake:  62.05969366747347\n",
      "intersect_ratio: 0.34803793745450184\n",
      "\n",
      "ytheta: 10.0\n",
      "wake_offset 42.74886697301956\n",
      "d_spanwise:  151.73709201394234\n",
      "r_wake:  84.11938733494691\n",
      "intersect_ratio: 0.0\n",
      "\n",
      "ytheta: 10.0\n",
      "wake_offset 45.84610262780441\n",
      "d_spanwise:  51.39687686567649\n",
      "r_wake:  62.059693667473454\n",
      "intersect_ratio: 0.5963491703604691\n"
     ]
    },
    {
     "data": {
      "text/plain": [
       "array([1.4566624 , 1.20605513, 1.20605513, 1.37939466, 1.20605513])"
      ]
     },
     "execution_count": 4,
     "metadata": {},
     "output_type": "execute_result"
    }
   ],
   "source": [
    "lp_1 = uopt.LayoutPower(config)\n",
    "powers_1 = lp_1.yawed_data_generation(layouts, inputs)\n",
    "\n",
    "powers_1"
   ]
  },
  {
   "cell_type": "code",
   "execution_count": 5,
   "metadata": {},
   "outputs": [],
   "source": [
    "layouts = np.array([[800, 3040],\n",
    "                   [800, 2480],\n",
    "                   [800, 1920],\n",
    "                   [800, 1360],\n",
    "                   [800, 800]])\n",
    "\n",
    "inputs = np.array([[0, 0.276],\n",
    "                   [0, 0.276],\n",
    "                   [0, 0.152],\n",
    "                   [0, 0.276],\n",
    "                   [0, 0.114]])"
   ]
  },
  {
   "cell_type": "code",
   "execution_count": 6,
   "metadata": {
    "collapsed": true
   },
   "outputs": [
    {
     "name": "stdout",
     "output_type": "stream",
     "text": [
      "\n",
      "ytheta: 0.0\n",
      "d_spanwise:  97.24297949348102\n",
      "r_wake:  62.059693667473454\n",
      "intersect_ratio: 0.019390294846945617\n",
      "\n",
      "ytheta: 0.0\n",
      "d_spanwise:  194.48595898696203\n",
      "r_wake:  84.11938733494691\n",
      "intersect_ratio: 0.0\n",
      "\n",
      "ytheta: 0.0\n",
      "d_spanwise:  291.72893848044305\n",
      "r_wake:  106.17908100242038\n",
      "intersect_ratio: 0.0\n",
      "\n",
      "ytheta: 0.0\n",
      "d_spanwise:  388.97191797392395\n",
      "r_wake:  128.23877466989381\n",
      "intersect_ratio: 0.0\n",
      "\n",
      "ytheta: 0.0\n",
      "d_spanwise:  97.24297949348102\n",
      "r_wake:  62.059693667473454\n",
      "intersect_ratio: 0.019390294846945617\n",
      "\n",
      "ytheta: 0.0\n",
      "d_spanwise:  194.48595898696203\n",
      "r_wake:  84.11938733494692\n",
      "intersect_ratio: 0.0\n",
      "\n",
      "ytheta: 0.0\n",
      "d_spanwise:  291.72893848044293\n",
      "r_wake:  106.17908100242038\n",
      "intersect_ratio: 0.0\n",
      "\n",
      "ytheta: 0.0\n",
      "d_spanwise:  97.24297949348102\n",
      "r_wake:  62.05969366747347\n",
      "intersect_ratio: 0.019390294846945672\n",
      "\n",
      "ytheta: 0.0\n",
      "d_spanwise:  194.48595898696192\n",
      "r_wake:  84.11938733494691\n",
      "intersect_ratio: 0.0\n",
      "\n",
      "ytheta: 0.0\n",
      "d_spanwise:  97.2429794934809\n",
      "r_wake:  62.059693667473454\n",
      "intersect_ratio: 0.019390294846946238\n"
     ]
    },
    {
     "data": {
      "text/plain": [
       "array([1.4566624 , 1.44901051, 1.44901051, 1.45245309, 1.44901051])"
      ]
     },
     "execution_count": 6,
     "metadata": {},
     "output_type": "execute_result"
    }
   ],
   "source": [
    "lp_2 = uopt.LayoutPower(config)\n",
    "powers_2 = lp_2.yawed_data_generation(layouts, inputs)\n",
    "\n",
    "powers_2"
   ]
  },
  {
   "cell_type": "code",
   "execution_count": null,
   "metadata": {},
   "outputs": [],
   "source": []
  },
  {
   "cell_type": "code",
   "execution_count": null,
   "metadata": {},
   "outputs": [],
   "source": []
  },
  {
   "cell_type": "code",
   "execution_count": null,
   "metadata": {},
   "outputs": [],
   "source": []
  },
  {
   "cell_type": "code",
   "execution_count": 4,
   "metadata": {},
   "outputs": [
    {
     "data": {
      "text/plain": [
       "array([0.03095842, 0.2763932 ])"
      ]
     },
     "execution_count": 4,
     "metadata": {},
     "output_type": "execute_result"
    }
   ],
   "source": [
    "ct = np.array([0.12, 0.8])\n",
    "\n",
    "ran = (1 - np.sqrt(1 - ct)) / 2\n",
    "ran"
   ]
  },
  {
   "cell_type": "code",
   "execution_count": 27,
   "metadata": {},
   "outputs": [
    {
     "name": "stdout",
     "output_type": "stream",
     "text": [
      "0.09659258262890684 5.534347316905032 0.2617993877991494\n"
     ]
    }
   ],
   "source": [
    "theta = (15 / 360) * (2 * np.pi)\n",
    "x_D = 0\n",
    "\n",
    "alpha = np.cos(theta)**2 * np.sin(theta) * 0.4 * (1 + 0.09 * x_D)**-2\n",
    "\n",
    "print(alpha, alpha / (2 * np.pi) * 360, theta,)"
   ]
  },
  {
   "cell_type": "code",
   "execution_count": 10,
   "metadata": {},
   "outputs": [
    {
     "data": {
      "text/plain": [
       "6.123233995736766e-17"
      ]
     },
     "execution_count": 10,
     "metadata": {},
     "output_type": "execute_result"
    }
   ],
   "source": [
    "np.cos(np.pi / 2)"
   ]
  },
  {
   "cell_type": "code",
   "execution_count": 22,
   "metadata": {},
   "outputs": [
    {
     "name": "stdout",
     "output_type": "stream",
     "text": [
      "14.758422424179669\n",
      "21.287129032772203\n",
      "24.96928107353486\n",
      "27.333368485684773\n",
      "14.758422424179669\n",
      "21.287129032772203\n",
      "24.96928107353486\n",
      "14.758422424179669\n",
      "21.287129032772203\n",
      "14.758422424179669\n"
     ]
    },
    {
     "data": {
      "text/plain": [
       "array([0.        , 0.10380623, 0.1161396 , 0.12026196, 0.12204329])"
      ]
     },
     "execution_count": 22,
     "metadata": {},
     "output_type": "execute_result"
    }
   ],
   "source": [
    "\n",
    "\n"
   ]
  },
  {
   "cell_type": "code",
   "execution_count": null,
   "metadata": {},
   "outputs": [],
   "source": [
    "powers = uopt.LayoutPower(config).yawed_data_generation(layouts, inputs)"
   ]
  }
 ],
 "metadata": {
  "kernelspec": {
   "display_name": "ml",
   "language": "python",
   "name": "ml"
  },
  "language_info": {
   "codemirror_mode": {
    "name": "ipython",
    "version": 3
   },
   "file_extension": ".py",
   "mimetype": "text/x-python",
   "name": "python",
   "nbconvert_exporter": "python",
   "pygments_lexer": "ipython3",
   "version": "3.6.10"
  }
 },
 "nbformat": 4,
 "nbformat_minor": 4
}
