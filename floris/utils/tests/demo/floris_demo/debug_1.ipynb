{
 "cells": [
  {
   "cell_type": "code",
   "execution_count": 1,
   "source": [
    "import os, sys\n",
    "sys.path.append(os.path.abspath('../..'))\n",
    "import pickle\n",
    "\n",
    "import numpy as np\n",
    "import pandas as pd\n",
    "import matplotlib.pyplot as plt\n",
    "\n",
    "import floris.tools as wfct"
   ],
   "outputs": [],
   "metadata": {}
  },
  {
   "cell_type": "code",
   "execution_count": 2,
   "source": [
    "# print(sys.path)\n",
    "fi = wfct.floris_interface.FlorisInterface(\"../../examples/other_jsons/jensen.json\")"
   ],
   "outputs": [],
   "metadata": {}
  },
  {
   "cell_type": "code",
   "execution_count": 3,
   "source": [
<<<<<<< HEAD
    "fi.floris.farm.wake.velocity_model.default_parameters"
   ],
   "outputs": [
    {
     "output_type": "execute_result",
     "data": {
      "text/plain": [
       "{'we': 0.05}"
      ]
     },
     "metadata": {},
     "execution_count": 3
=======
    "fi.floris.farm.wake.combination_model.default_parameters"
   ],
   "outputs": [
    {
     "output_type": "error",
     "ename": "AttributeError",
     "evalue": "'SOSFS' object has no attribute 'default_parameters'",
     "traceback": [
      "\u001b[0;31m---------------------------------------------------------------------------\u001b[0m",
      "\u001b[0;31mAttributeError\u001b[0m                            Traceback (most recent call last)",
      "\u001b[0;32m<ipython-input-3-ec4e098bc561>\u001b[0m in \u001b[0;36m<module>\u001b[0;34m\u001b[0m\n\u001b[0;32m----> 1\u001b[0;31m \u001b[0mfi\u001b[0m\u001b[0;34m.\u001b[0m\u001b[0mfloris\u001b[0m\u001b[0;34m.\u001b[0m\u001b[0mfarm\u001b[0m\u001b[0;34m.\u001b[0m\u001b[0mwake\u001b[0m\u001b[0;34m.\u001b[0m\u001b[0mcombination_model\u001b[0m\u001b[0;34m.\u001b[0m\u001b[0mdefault_parameters\u001b[0m\u001b[0;34m\u001b[0m\u001b[0;34m\u001b[0m\u001b[0m\n\u001b[0m",
      "\u001b[0;31mAttributeError\u001b[0m: 'SOSFS' object has no attribute 'default_parameters'"
     ]
>>>>>>> c8ea8292687ddf360533aae7976761681a8a1c6b
    }
   ],
   "metadata": {}
  },
  {
   "cell_type": "code",
   "execution_count": 4,
   "source": [
    "print(fi.floris.farm.turbines)"
   ],
   "outputs": [
    {
     "output_type": "stream",
     "name": "stdout",
     "text": [
      "[<floris.simulation.turbine.Turbine object at 0x2b2accd0b760>]\n"
     ]
    }
   ],
   "metadata": {}
  },
  {
   "cell_type": "code",
   "execution_count": null,
   "source": [],
   "outputs": [],
   "metadata": {}
  }
 ],
 "metadata": {
  "orig_nbformat": 4,
  "language_info": {
   "name": "python",
   "version": "3.8.10",
   "mimetype": "text/x-python",
   "codemirror_mode": {
    "name": "ipython",
    "version": 3
   },
   "pygments_lexer": "ipython3",
   "nbconvert_exporter": "python",
   "file_extension": ".py"
  },
  "kernelspec": {
   "name": "python3",
   "display_name": "Python 3.8.10 64-bit ('ml': conda)"
  },
  "interpreter": {
   "hash": "489e1a78b4af96ee736c0bc6f103cb804de5e717bd0d52ca2b178bedf6982347"
  }
 },
 "nbformat": 4,
 "nbformat_minor": 2
}